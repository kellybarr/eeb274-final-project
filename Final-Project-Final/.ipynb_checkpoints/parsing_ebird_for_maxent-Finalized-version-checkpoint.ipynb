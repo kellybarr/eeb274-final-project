{
 "cells": [
  {
   "cell_type": "markdown",
   "metadata": {},
   "source": [
    "# Mining eBird data for habitat modeling.\n",
    "##   Kelly Barr"
   ]
  },
  {
   "cell_type": "markdown",
   "metadata": {},
   "source": [
    "The Tricolored Blackbird is a declining species that is protected under the California Endangered Species Act (Meese et al. 2014).\n",
    "\n",
    "![title](images/small.jpeg)"
   ]
  },
  {
   "cell_type": "markdown",
   "metadata": {},
   "source": [
    "An example of the data available via ebird (Sullivan et al. 2009):\n",
    "\n",
    "![TITLE](images/trbl_ebird.png)"
   ]
  },
  {
   "cell_type": "markdown",
   "metadata": {},
   "source": [
    "What this code does:\n",
    "\n",
    "# 1.  Parse out data of interest:  dates & locations\n",
    "# 2.  Subset these by year\n",
    "# 3.  Create input files with randomized locations"
   ]
  },
  {
   "cell_type": "code",
   "execution_count": 2,
   "metadata": {
    "collapsed": false
   },
   "outputs": [],
   "source": [
    "#This code takes in a file downloaded from ebird.  Data are behind a sign-in wall and hence are not\n",
    "#available through wget or curl.  This code reads in the data and creates output that can be used\n",
    "#for analyses downstream.  Namely, the locations and dates for observations of species are output.\n",
    "\n",
    "#this parser will return a list that can be used later as a combined dictionary\n",
    "def parse_ebird_todict(file_name):\n",
    "    import csv\n",
    "    f = open(file_name,'r')\n",
    "    data = csv.reader(f,delimiter='\\t')\n",
    "    year_lat_long = []\n",
    "    for row in data:\n",
    "        year_lat_long.append(row[24].split('-')[0] + ', ' + row[22] + ', ' + row[23])\n",
    "    #there is some crap at the beginning and end of these lists to remove\n",
    "    year_lat_long = year_lat_long[1:-1]\n",
    "    bird_data_dict = dict()\n",
    "    for line in year_lat_long:\n",
    "        if line.split(', ')[0] in bird_data_dict:\n",
    "        # append the new number to the existing array at this slot\n",
    "            bird_data_dict[line.split(', ')[0]].append(line.split(', ')[1] + (', ') + line.split(', ')[2])\n",
    "        else:\n",
    "            # create a new array in this slot\n",
    "            bird_data_dict[line.split(', ')[0]] = [line.split(', ')[1] + (', ') + line.split(', ')[2]]\n",
    "    f.close()\n",
    "    return bird_data_dict"
   ]
  },
  {
   "cell_type": "code",
   "execution_count": 3,
   "metadata": {
    "collapsed": false
   },
   "outputs": [],
   "source": [
    "trbl_example = open(\"trbl_ebird.txt\",'r').readlines()\n",
    "#remove quotes to show what the data look like\n",
    "#trbl_example"
   ]
  },
  {
   "cell_type": "code",
   "execution_count": 4,
   "metadata": {
    "collapsed": false
   },
   "outputs": [],
   "source": [
    "#making dictionary for Tricolored Blackbirds\n",
    "trbl_data = parse_ebird_todict(\"trbl_ebird.txt\")\n"
   ]
  },
  {
   "cell_type": "code",
   "execution_count": 5,
   "metadata": {
    "collapsed": false
   },
   "outputs": [],
   "source": [
    "#making list of years vs number of datapoints for graphics\n",
    "years = []\n",
    "number_obs = []\n",
    "for keys,values in trbl_data.items():\n",
    "    years.append(int(keys))\n",
    "    number_obs.append(len(trbl_data[keys])/2)\n"
   ]
  },
  {
   "cell_type": "code",
   "execution_count": 7,
   "metadata": {
    "collapsed": false
   },
   "outputs": [
    {
     "data": {
      "image/png": "[encoded data removed]",
      "text/plain": [
       "<matplotlib.figure.Figure at 0x7f6a63585a58>"
      ]
     },
     "metadata": {},
     "output_type": "display_data"
    }
   ],
   "source": [
    "import numpy as np\n",
    "import matplotlib.pyplot as plt\n",
    "\n",
    "plt.bar(years, number_obs)\n",
    "plt.text(1900, 2000, \"TRBL Obs by Year\",fontsize=10)\n",
    "plt.show()\n"
   ]
  },
  {
   "cell_type": "markdown",
   "metadata": {},
   "source": [
    "### That's odd.  eBird is a website and there are data since 1900.  Let's explore that:"
   ]
  },
  {
   "cell_type": "code",
   "execution_count": 12,
   "metadata": {
    "collapsed": false
   },
   "outputs": [
    {
     "data": {
      "image/png": "[encoded data removed]",
      "text/plain": [
       "<matplotlib.figure.Figure at 0x7f6a5feb0da0>"
      ]
     },
     "metadata": {},
     "output_type": "display_data"
    }
   ],
   "source": [
    "plt.bar(years, number_obs)\n",
    "plt.axvline(x = 2002, color = \"red\")\n",
    "plt.text(1900, 2000, \"TRBL Obs by Year\",fontsize=10)\n",
    "plt.text(1945, 1500, \"eBird initiated\",fontsize=20, color = \"red\")\n",
    "plt.show()\n",
    "\n",
    "#this plot shows my data"
   ]
  },
  {
   "cell_type": "markdown",
   "metadata": {},
   "source": [
    "Why do those earlier years appear anyway?  Let's explore that:"
   ]
  },
  {
   "cell_type": "code",
   "execution_count": 29,
   "metadata": {
    "collapsed": false
   },
   "outputs": [
    {
     "data": {
      "image/png": "[encoded data removed]",
      "text/plain": [
       "<matplotlib.figure.Figure at 0x7fdec7380fd0>"
      ]
     },
     "metadata": {},
     "output_type": "display_data"
    }
   ],
   "source": [
    "plt.bar(years, number_obs)\n",
    "plt.ylim(0,10)\n",
    "plt.show()\n",
    "\n",
    "#plot illustrates why some data need to come out"
   ]
  },
  {
   "cell_type": "markdown",
   "metadata": {},
   "source": [
    "### 1.  Parse out data of interest:  dates & locations\n",
    "# 2.  Subset these by year\n",
    "### 3.  Create input files with randomized locations"
   ]
  },
  {
   "cell_type": "code",
   "execution_count": 11,
   "metadata": {
    "collapsed": false
   },
   "outputs": [],
   "source": [
    "#this function grabs the geo data out by year\n",
    "def geos_by_year(year1,year2,bird_dict):\n",
    "    list_of_years = []\n",
    "    list_of_years.append(year1)\n",
    "    i = 0\n",
    "#populate a list of years\n",
    "    while i < (year2 - year1):\n",
    "        list_of_years.append(year1 + i)\n",
    "        i = i + 1\n",
    "#this code removes the quotes from the years so that the list of years can be used\n",
    "    bird_dict2 = {eval(k):v for k,v in bird_dict.items()}\n",
    "    list_of_locations = []\n",
    "    for key, value in bird_dict2.items():\n",
    "#conditional:  if key is in list of years\n",
    "        if key in list_of_years:\n",
    "            list_of_locations.append(value)\n",
    "#This next code combines the list 0f lists into one (flattens it).\n",
    "    geos = [item for sublist in list_of_locations for item in sublist] \n",
    "    return geos\n"
   ]
  },
  {
   "cell_type": "code",
   "execution_count": 12,
   "metadata": {
    "collapsed": false
   },
   "outputs": [],
   "source": [
    "#calling function\n",
    "trbls = geos_by_year(2003,2014,trbl_data)\n",
    "j = 0\n",
    "#population second variable with data so they can be shuffled\n",
    "trbls2 = []\n",
    "while j < len(trbls):\n",
    "    trbls2.append(trbls[j:j+1])\n",
    "    j+=1\n",
    "\n",
    "    \n"
   ]
  },
  {
   "cell_type": "markdown",
   "metadata": {},
   "source": [
    "### 1.  Parse out data of interest:  dates & locations\n",
    "### 2.  Subset these by year\n",
    "# 3.  Create input files with randomized locations"
   ]
  },
  {
   "cell_type": "code",
   "execution_count": 18,
   "metadata": {
    "collapsed": false
   },
   "outputs": [],
   "source": [
    "#generating files with random datapoints; 70% for model-training, 30% for model-testing\n",
    "import random\n",
    "#randomizing data\n",
    "random.shuffle(trbls2)\n",
    "\n",
    "outfile_training = open(\"training_dataset.txt\",'w')\n",
    "outfile_testing = open(\"testing_dataset.txt\",'w')\n",
    "#populating variables with subsets\n",
    "training_set = trbls[0:round(len(trbls)*0.7)]\n",
    "test_set = trbls[round(len(trbls)*0.7):]\n",
    "i = 0\n",
    "j = 0\n",
    "for line in training_set:\n",
    "    outfile_training.write(\"TRBL\" + ', ' + line + '\\n')\n",
    "    i += 1\n",
    "for line in test_set:\n",
    "    outfile_testing.write(\"TRBL\" + ', ' + line + '\\n')\n",
    "    j += 1\n",
    "\n",
    "outfile_training.close()\n",
    "outfile_testing.close()"
   ]
  },
  {
   "cell_type": "code",
   "execution_count": 25,
   "metadata": {
    "collapsed": false
   },
   "outputs": [],
   "source": [
    "trbl_outfile = open(\"training_dataset.txt\",'r').readlines()\n",
    "#remove hash to show data\n",
    "#trbl_outfile"
   ]
  },
  {
   "cell_type": "markdown",
   "metadata": {},
   "source": [
    "Using the program MAXENT (Phillips & Dudik 2008), I built a habitat model for the TRBL.  "
   ]
  },
  {
   "cell_type": "markdown",
   "metadata": {
    "collapsed": true
   },
   "source": [
    "![TITLE](images/TRBL.png)"
   ]
  },
  {
   "cell_type": "markdown",
   "metadata": {
    "collapsed": true
   },
   "source": [
    "The following is the known range of the TRBL.  So this habitat model is pretty good."
   ]
  },
  {
   "cell_type": "markdown",
   "metadata": {},
   "source": [
    "![TITLE](images/Tricolored_Blackbird_map.jpg)"
   ]
  },
  {
   "cell_type": "markdown",
   "metadata": {
    "collapsed": true
   },
   "source": [
    "## References\n",
    "\n",
    "Meese, Robert J., Edward C. Beedy and William J. Hamilton, III. (2014). Tricolored Blackbird (Agelaius tricolor), The Birds of North America (P. G. Rodewald, Ed.). Ithaca: Cornell Lab of Ornithology; Retrieved from the Birds of North America: https://birdsna.org/Species-Account/bna/species/tribla\n",
    "\n",
    "Phillips, S. J., & Dudík, M. (2008). Modeling of species distributions with Maxent: new extensions and a comprehensive evaluation. Ecography, 31(2), 161-175.\n",
    "\n",
    "Sullivan, B.L., C.L. Wood, M.J. Iliff, R.E. Bonney, D. Fink, and S. Kelling (2009) eBird: a citizen-based bird observation network in the biological sciences. Biological Conservation 142: 2282-2292."
   ]
  },
  {
   "cell_type": "markdown",
   "metadata": {},
   "source": [
    "# Link to Github\n",
    "\n",
    "https://github.com/kellybarr/eeb274-final-project/tree/master/Final-Project-Final"
   ]
  }
 ],
 "metadata": {
  "anaconda-cloud": {},
  "kernelspec": {
   "display_name": "Python [conda root]",
   "language": "python",
   "name": "conda-root-py"
  },
  "language_info": {
   "codemirror_mode": {
    "name": "ipython",
    "version": 3
   },
   "file_extension": ".py",
   "mimetype": "text/x-python",
   "name": "python",
   "nbconvert_exporter": "python",
   "pygments_lexer": "ipython3",
   "version": "3.5.2"
  }
 },
 "nbformat": 4,
 "nbformat_minor": 2
}
