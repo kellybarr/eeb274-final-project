{
 "cells": [
  {
   "cell_type": "markdown",
   "metadata": {},
   "source": [
    "This is a pipeline towards making habitat models for the Tricolored Blackbird and Burrowing Owl, two of my dissertion research topics.  Developing habitat models will provide data for landscape genetic analyses and potentially facilitate field efforts in identifying sample sites.  This is a several step process starting with the parsing of large, complex, and data-rich files.  "
   ]
  },
  {
   "cell_type": "code",
   "execution_count": 18,
   "metadata": {
    "collapsed": true
   },
   "outputs": [],
   "source": [
    "#This code takes in a file downloaded from ebird.  Data are behind a sign-in wall and hence are not\n",
    "#available through wget or curl.  This code reads in the data and creates output that can be used\n",
    "#for analyses downstream.  Namely, the locations and dates for observations of species are output.\n",
    "\n",
    "#March 3, updating this to grab the specific years instead of full dates\n",
    "\n",
    "def parse_ebird(file_name):\n",
    "    import csv\n",
    "    f = open(file_name,'r')\n",
    "    data = csv.reader(f,delimiter='\\t')\n",
    "    lat = []\n",
    "    long = []\n",
    "    year = []\n",
    "    for row in data:\n",
    "        lat.append(row[22])\n",
    "        long.append(row[23])\n",
    "        year.append(row[24].split('-')[0])\n",
    "    #there is some crap at the beginning and end of these lists to remove\n",
    "    lat = lat[1:-2]\n",
    "    long = long[1:-2]\n",
    "    year = year[1:-2]\n",
    "    return lat, long, year"
   ]
  },
  {
   "cell_type": "code",
   "execution_count": 54,
   "metadata": {
    "collapsed": false
   },
   "outputs": [],
   "source": [
    "#the above parser returns the data separately\n",
    "#this parser will return a list that can be used later as a combined dictionary\n",
    "def parse_ebird_todict(file_name):\n",
    "    import csv\n",
    "    f = open(file_name,'r')\n",
    "    data = csv.reader(f,delimiter='\\t')\n",
    "    year_lat_long = []\n",
    "    for row in data:\n",
    "        year_lat_long.append(row[24].split('-')[0] + ', ' + row[22] + ', ' + row[23])\n",
    "    #there is some crap at the beginning and end of these lists to remove\n",
    "    year_lat_long = year_lat_long[1:-1]\n",
    "    bird_data_dict = dict()\n",
    "    for line in year_lat_long:\n",
    "        if line.split(', ')[0] in bird_data_dict:\n",
    "        # append the new number to the existing array at this slot\n",
    "            bird_data_dict[line.split(', ')[0]].append(line.split(', ')[1] + line.split(', ')[2])\n",
    "        else:\n",
    "            # create a new array in this slot\n",
    "            bird_data_dict[line.split(', ')[0]] = [line.split(', ')[1] + line.split(', ')[2]]\n",
    "    return bird_data_dict"
   ]
  },
  {
   "cell_type": "code",
   "execution_count": 61,
   "metadata": {
    "collapsed": false
   },
   "outputs": [],
   "source": [
    "#making dictionary for Tricolored Blackbirds\n",
    "trbl_data = parse_ebird_todict(\"trbl_ebird.txt\")\n"
   ]
  },
  {
   "cell_type": "code",
   "execution_count": 113,
   "metadata": {
    "collapsed": false
   },
   "outputs": [
    {
     "data": {
      "text/plain": [
       "27577"
      ]
     },
     "execution_count": 113,
     "metadata": {},
     "output_type": "execute_result"
    }
   ],
   "source": [
    "#making list of years vs number of datapoints for graphics\n",
    "years = []\n",
    "number_obs = []\n",
    "for keys,values in trbl_data.items():\n",
    "    years.append(int(keys))\n",
    "    number_obs.append(len(trbl_data[keys]))\n",
    "min(years)\n",
    "sum(number_obs)\n",
    "    "
   ]
  },
  {
   "cell_type": "markdown",
   "metadata": {},
   "source": [
    "Graphing the data over time would be an obvious and valuable way to demonstrate my problem with the data now, namely that I don't need the lat/longs for all of the dates, just the most recent ones."
   ]
  },
  {
   "cell_type": "code",
   "execution_count": 109,
   "metadata": {
    "collapsed": false
   },
   "outputs": [
    {
     "data": {
      "image/png": "[encoded data removed]",
      "text/plain": [
       "<matplotlib.figure.Figure at 0x7fcb4ad04a20>"
      ]
     },
     "metadata": {},
     "output_type": "display_data"
    }
   ],
   "source": [
    "import numpy as np\n",
    "import matplotlib.pyplot as plt\n",
    "\n",
    "plt.bar(years, number_obs)\n",
    "plt.axvline(x = 2002, color = \"black\")\n",
    "plt.text(1960, 3500, \"eBird\",fontsize=40)\n",
    "plt.show()\n",
    "\n",
    "#this plot shows my data"
   ]
  },
  {
   "cell_type": "code",
   "execution_count": 112,
   "metadata": {
    "collapsed": false
   },
   "outputs": [
    {
     "data": {
      "image/png": "[encoded data removed]",
      "text/plain": [
       "<matplotlib.figure.Figure at 0x7fcb4aada748>"
      ]
     },
     "metadata": {},
     "output_type": "display_data"
    }
   ],
   "source": [
    "plt.bar(years, number_obs)\n",
    "plt.ylim(0,10)\n",
    "plt.show()\n",
    "\n",
    "#plot illustrates why some data need to come out"
   ]
  },
  {
   "cell_type": "markdown",
   "metadata": {
    "collapsed": true
   },
   "source": [
    "The next step is to break this data down by date.  EBird is a well-curated database known as a citizen science data bonanza; however, data from historical records are also stored there.  Hence, building a habitat model based upon all data might be biased by these historical records.  Tricolored Blackbirds and Burrowing Owls have both declined significantly over the past century.  What's valuable to contemporary population genetic patterns would be habitat predictions based upon recent observations.  Hence, here I attempt to extract observations between provided years."
   ]
  },
  {
   "cell_type": "code",
   "execution_count": 4,
   "metadata": {
    "collapsed": false
   },
   "outputs": [],
   "source": [
    "#extracting the data for the dates I seek\n",
    "\n",
    "#some psuedocode\n",
    "year1 = 1989\n",
    "year2 = 2000\n",
    "#my solution for the moment, creating a list of years between the requested ones\n",
    "list_of_years = []\n",
    "list_of_years.append(year1)\n",
    "i = 0\n",
    "while i < (year2 - year1):\n",
    "    list_of_years.append(year1 + i)\n",
    "    i = i + 1\n",
    "\n",
    "Build loop that asks if value is in range of years\n",
    "    if it is, store the key in a list\n",
    "    return a list of numbers that = keys for the dictionaries\n",
    "\n",
    "Build loop that goes through list of numbers\n",
    "    store the lat/longs into a list\n",
    "    return list of lat/longs\n",
    "\n",
    "Plot lats and longs as x & y    \n"
   ]
  },
  {
   "cell_type": "markdown",
   "metadata": {
    "collapsed": false
   },
   "source": [
    "Here should be a map of my data points.  First naive, and then another map with the outline of CA and NA.  \n"
   ]
  },
  {
   "cell_type": "markdown",
   "metadata": {
    "collapsed": false
   },
   "source": [
    "Habitat models required a set of points for training the models and another for testing.  One good way to do that would be to pull out a subset of points.  There are on the order of 27K datapoints, so there's plenty to work with here.  Let's create psuedocode to randomly subsample that."
   ]
  },
  {
   "cell_type": "code",
   "execution_count": null,
   "metadata": {
    "collapsed": false
   },
   "outputs": [],
   "source": [
    "initial list of lat/longs\n",
    "\n",
    "for loop to grab values from dictionary\n",
    "    each year grab values append to list\n",
    "\n",
    "training_list = random subset of lat/long list\n",
    "    do this as a for loop and erase as they're removed\n",
    "test_list = the rest of the lat/long list\n",
    "\n",
    "write a couple of files for running the model-testing program, MAXENT\n",
    "        \n",
    "            \n"
   ]
  },
  {
   "cell_type": "code",
   "execution_count": null,
   "metadata": {
    "collapsed": true
   },
   "outputs": [],
   "source": []
  },
  {
   "cell_type": "code",
   "execution_count": 26,
   "metadata": {
    "collapsed": true
   },
   "outputs": [],
   "source": []
  },
  {
   "cell_type": "code",
   "execution_count": null,
   "metadata": {
    "collapsed": false
   },
   "outputs": [],
   "source": []
  },
  {
   "cell_type": "markdown",
   "metadata": {},
   "source": []
  },
  {
   "cell_type": "code",
   "execution_count": null,
   "metadata": {
    "collapsed": false
   },
   "outputs": [],
   "source": []
  },
  {
   "cell_type": "code",
   "execution_count": null,
   "metadata": {
    "collapsed": false
   },
   "outputs": [],
   "source": [
    "\n",
    "        "
   ]
  },
  {
   "cell_type": "code",
   "execution_count": null,
   "metadata": {
    "collapsed": false
   },
   "outputs": [],
   "source": []
  },
  {
   "cell_type": "code",
   "execution_count": null,
   "metadata": {
    "collapsed": true
   },
   "outputs": [],
   "source": []
  }
 ],
 "metadata": {
  "anaconda-cloud": {},
  "kernelspec": {
   "display_name": "Python [conda root]",
   "language": "python",
   "name": "conda-root-py"
  },
  "language_info": {
   "codemirror_mode": {
    "name": "ipython",
    "version": 3
   },
   "file_extension": ".py",
   "mimetype": "text/x-python",
   "name": "python",
   "nbconvert_exporter": "python",
   "pygments_lexer": "ipython3",
   "version": "3.5.2"
  }
 },
 "nbformat": 4,
 "nbformat_minor": 2
}
