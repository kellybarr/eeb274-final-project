{
 "cells": [
  {
   "cell_type": "markdown",
   "metadata": {},
   "source": [
    "# File Input "
   ]
  },
  {
   "cell_type": "code",
   "execution_count": null,
   "metadata": {
    "collapsed": true
   },
   "outputs": [],
   "source": [
    "#The point of this code is to create a bunch of input files that IBDSim will use for parameter files for simulating data under a variety of dispersal scenarios\n",
    "#The input file format is committed as well.  \"input_example.txt\"\n",
    "\n",
    "#Read in genetic data file to acquire loci, allele numbers, sample sizes?\n",
    "\n",
    "#create input file that calls IBDSim with a variety of initial parameters\n",
    "#Demographic inputs can remain the same for each run\n",
    "#Need to iterate through various dispersal kernels, shapes & sizes\n",
    "#Ton of genepop files is output (possibly geneland output for spatial analyses)\n",
    "\n",
    "#Big problem to resolve:  interaction with IBDSim compiled c code"
   ]
  }
 ],
 "metadata": {
  "anaconda-cloud": {},
  "kernelspec": {
   "display_name": "Python [conda root]",
   "language": "python",
   "name": "conda-root-py"
  },
  "language_info": {
   "codemirror_mode": {
    "name": "ipython",
    "version": 3
   },
   "file_extension": ".py",
   "mimetype": "text/x-python",
   "name": "python",
   "nbconvert_exporter": "python",
   "pygments_lexer": "ipython3",
   "version": "3.5.2"
  }
 },
 "nbformat": 4,
 "nbformat_minor": 2
}
