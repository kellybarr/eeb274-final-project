{
 "cells": [
  {
   "cell_type": "markdown",
   "metadata": {},
   "source": [
    "# post simulation analysis"
   ]
  },
  {
   "cell_type": "code",
   "execution_count": null,
   "metadata": {
    "collapsed": true
   },
   "outputs": [],
   "source": [
    "#need to reduce simulated genotype files to summary statistics\n",
    "    #what's important for dispersal and IBD?\n",
    "        #r for genetic vs geographic distance?\n",
    "        #Wright's genetic neighborhoods?\n",
    "#figure out which scenario is \"closest\" to empirical data\n",
    "    #need to keep parameters used for simulations\n",
    "#estimate variance on parameters in that scenario\n"
   ]
  }
 ],
 "metadata": {
  "anaconda-cloud": {},
  "kernelspec": {
   "display_name": "Python [conda root]",
   "language": "python",
   "name": "conda-root-py"
  },
  "language_info": {
   "codemirror_mode": {
    "name": "ipython",
    "version": 3
   },
   "file_extension": ".py",
   "mimetype": "text/x-python",
   "name": "python",
   "nbconvert_exporter": "python",
   "pygments_lexer": "ipython3",
   "version": "3.5.2"
  }
 },
 "nbformat": 4,
 "nbformat_minor": 2
}
